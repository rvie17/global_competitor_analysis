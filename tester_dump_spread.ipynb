{
 "cells": [
  {
   "cell_type": "code",
   "execution_count": 4,
   "id": "fef61ea9",
   "metadata": {},
   "outputs": [
    {
     "name": "stdout",
     "output_type": "stream",
     "text": [
      "Traitement de l'élément : TRADFIUSDT\n",
      "Traitement de l'élément : NVIDIA\n",
      "Traitement de l'élément : TTIUSDT\n",
      "Traitement de l'élément : MCDUSDT\n",
      "Traitement de l'élément : HOODUSDT\n",
      "Traitement de l'élément : TSLAUSDT\n",
      "Traitement de l'élément : IMSTRUSDT\n",
      "Traitement de l'élément : COINUSDT\n",
      "Traitement de l'élément : GOOGLUSDT\n",
      "Offsets mis à jour et fichier dumpé dans : markets-2.yaml\n"
     ]
    }
   ],
   "source": [
    "import os\n",
    "import yaml\n",
    "\n",
    "input_path = \"tradfi_safe.yaml\"\n",
    "output_path = \"markets-2.yaml\"\n",
    "\n",
    "\n",
    "spread = {\n",
    "    'TSLAUSDT': {'Spread (tick)': 2.24, 'Spread (%)': '0.460%'},\n",
    "    'COINUSDT': {'Spread (tick)': 2.15, 'Spread (%)': '0.618%'},\n",
    "    'IMSTRUSDT': {'Spread (tick)': 2.59, 'Spread (%)': '0.409%'},\n",
    "    'NVIDIA': {'Spread (tick)': 0.79, 'Spread (%)': '0.376%'},\n",
    "    'HOODUSDT': {'Spread (tick)': 0.41, 'Spread (%)': '0.498%'},\n",
    "    'MCDUSDT': {'Spread (tick)': 2.65, 'Spread (%)': '0.426%'},\n",
    "    'GOOGLUSDT': {'Spread (tick)': 1.5,  'Spread (%)': '0.485%'},\n",
    "    'TRADFIUSDT': {'Spread (tick)': 4.48, 'Spread (%)': '0.423%'},\n",
    "    'TTIUSDT': {'Spread (tick)': 3.25, 'Spread (%)': '0.363%'}\n",
    "}\n",
    "\n",
    "def convert_percent_to_float(percent_str):\n",
    "    return float(percent_str.strip('%'))\n",
    "\n",
    "def update_yaml_offsets(input_path, output_path, spread_dict):\n",
    "    if not os.path.exists(input_path):\n",
    "        print(f\"Erreur : le fichier '{input_path}' n'existe pas.\")\n",
    "        return\n",
    "\n",
    "    with open(input_path, 'r', encoding='utf-8') as infile:\n",
    "        try:\n",
    "            data = yaml.load(infile, Loader=yaml.FullLoader)\n",
    "        except yaml.YAMLError as e:\n",
    "            print(f\"Erreur YAML : {e}\")\n",
    "            return\n",
    "\n",
    "    if \"derivative\" in data and isinstance(data[\"derivative\"], list):\n",
    "        for item in data[\"derivative\"]:\n",
    "            symbol = item.get(\"symbol\")\n",
    "            print(f\"Traitement de l'élément : {symbol}\")\n",
    "            if symbol in spread_dict:\n",
    "                spread_percent_str = spread_dict[symbol][\"Spread (%)\"]\n",
    "                spread_float = convert_percent_to_float(spread_percent_str)\n",
    "                spread_float = round(spread_float, 3)\n",
    "                item[\"offsets\"] = [spread_float , spread_float]\n",
    "\n",
    "    with open(output_path, 'w', encoding='utf-8') as outfile:\n",
    "        yaml.dump(data, outfile, default_flow_style=False, sort_keys=False, indent=2)\n",
    "\n",
    "    print(f\"Offsets mis à jour et fichier dumpé dans : {output_path}\")\n",
    "\n",
    "if __name__ == \"__main__\":\n",
    "    update_yaml_offsets(input_path, output_path, spread)"
   ]
  }
 ],
 "metadata": {
  "kernelspec": {
   "display_name": "base",
   "language": "python",
   "name": "python3"
  },
  "language_info": {
   "codemirror_mode": {
    "name": "ipython",
    "version": 3
   },
   "file_extension": ".py",
   "mimetype": "text/x-python",
   "name": "python",
   "nbconvert_exporter": "python",
   "pygments_lexer": "ipython3",
   "version": "3.11.5"
  }
 },
 "nbformat": 4,
 "nbformat_minor": 5
}
