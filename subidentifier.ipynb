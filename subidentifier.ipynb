{
 "cells": [
  {
   "cell_type": "code",
   "execution_count": 1,
   "metadata": {},
   "outputs": [],
   "source": [
    "from pyinjective.async_client import AsyncClient\n",
    "from pyinjective.core.network import Network\n",
    "\n",
    "import pandas as pd \n",
    "\n",
    "\n",
    "network = Network.local()\n",
    "client = AsyncClient(network)\n",
    "\n",
    "\n",
    "async def sub_order(client, account_address) -> None:\n",
    "    subacc_list = await client.fetch_subaccounts_list(account_address)\n",
    "    return subacc_list[\"subaccounts\"]\n",
    "\n",
    "\n",
    "async def order_list(client, subaccount_id,market_id) -> None:\n",
    "    orders = await client.fetch_subaccount_orders_list(subaccount_id=subaccount_id, market_id=market_id)\n",
    "    return orders['orders']\n",
    "\n",
    "\n",
    "async def subfinder(account_address,market_id) -> None:\n",
    "    all_orders =  []\n",
    "    subacc_list = await sub_order(client, account_address)\n",
    "    for i in subacc_list: \n",
    "        all_orders.extend(await order_list(client, i,market_id))\n",
    "\n",
    "    df = pd.DataFrame(all_orders)\n",
    "    pd.set_option('display.max_colwidth', 100)\n",
    "    #print(df)\n",
    "    df = df[[\"orderSide\",\"subaccountId\",\"price\",\"quantity\"]]\n",
    "    df[\"price\"] = df[\"price\"].astype(float)/1e6\n",
    "    df[\"quantity\"] = df[\"quantity\"].astype(float)\n",
    "    df[\"quantity_in_$\"] = df[\"price\"] * df[\"quantity\"]\n",
    "    df = df[[\"orderSide\",\"subaccountId\",\"price\",\"quantity_in_$\"]]\n",
    "    \n",
    "    return df"
   ]
  },
  {
   "cell_type": "code",
   "execution_count": 2,
   "metadata": {},
   "outputs": [
    {
     "name": "stdout",
     "output_type": "stream",
     "text": [
      "Fetching orders for iMSTR/USDT PERP...\n"
     ]
    },
    {
     "data": {
      "text/html": [
       "<div>\n",
       "<style scoped>\n",
       "    .dataframe tbody tr th:only-of-type {\n",
       "        vertical-align: middle;\n",
       "    }\n",
       "\n",
       "    .dataframe tbody tr th {\n",
       "        vertical-align: top;\n",
       "    }\n",
       "\n",
       "    .dataframe thead th {\n",
       "        text-align: right;\n",
       "    }\n",
       "</style>\n",
       "<table border=\"1\" class=\"dataframe\">\n",
       "  <thead>\n",
       "    <tr style=\"text-align: right;\">\n",
       "      <th></th>\n",
       "      <th>orderSide</th>\n",
       "      <th>subaccountId</th>\n",
       "      <th>price</th>\n",
       "      <th>quantity_in_$</th>\n",
       "      <th>ticker</th>\n",
       "    </tr>\n",
       "  </thead>\n",
       "  <tbody>\n",
       "    <tr>\n",
       "      <th>0</th>\n",
       "      <td>sell</td>\n",
       "      <td>0x935b705b5943b0e1b859651d2ccf375bc96dfdd7000000000000000000000027</td>\n",
       "      <td>306.2</td>\n",
       "      <td>1478.6398</td>\n",
       "      <td>iMSTR/USDT PERP</td>\n",
       "    </tr>\n",
       "  </tbody>\n",
       "</table>\n",
       "</div>"
      ],
      "text/plain": [
       "  orderSide  \\\n",
       "0      sell   \n",
       "\n",
       "                                                         subaccountId  price  \\\n",
       "0  0x935b705b5943b0e1b859651d2ccf375bc96dfdd7000000000000000000000027  306.2   \n",
       "\n",
       "   quantity_in_$           ticker  \n",
       "0      1478.6398  iMSTR/USDT PERP  "
      ]
     },
     "metadata": {},
     "output_type": "display_data"
    },
    {
     "name": "stdout",
     "output_type": "stream",
     "text": [
      "Fetching orders for iNVDA/USDT PERP...\n"
     ]
    },
    {
     "data": {
      "text/html": [
       "<div>\n",
       "<style scoped>\n",
       "    .dataframe tbody tr th:only-of-type {\n",
       "        vertical-align: middle;\n",
       "    }\n",
       "\n",
       "    .dataframe tbody tr th {\n",
       "        vertical-align: top;\n",
       "    }\n",
       "\n",
       "    .dataframe thead th {\n",
       "        text-align: right;\n",
       "    }\n",
       "</style>\n",
       "<table border=\"1\" class=\"dataframe\">\n",
       "  <thead>\n",
       "    <tr style=\"text-align: right;\">\n",
       "      <th></th>\n",
       "      <th>orderSide</th>\n",
       "      <th>subaccountId</th>\n",
       "      <th>price</th>\n",
       "      <th>quantity_in_$</th>\n",
       "      <th>ticker</th>\n",
       "    </tr>\n",
       "  </thead>\n",
       "  <tbody>\n",
       "    <tr>\n",
       "      <th>0</th>\n",
       "      <td>sell</td>\n",
       "      <td>0x935b705b5943b0e1b859651d2ccf375bc96dfdd700000000000000000000002a</td>\n",
       "      <td>110.16</td>\n",
       "      <td>1363.23</td>\n",
       "      <td>iNVDA/USDT PERP</td>\n",
       "    </tr>\n",
       "  </tbody>\n",
       "</table>\n",
       "</div>"
      ],
      "text/plain": [
       "  orderSide  \\\n",
       "0      sell   \n",
       "\n",
       "                                                         subaccountId   price  \\\n",
       "0  0x935b705b5943b0e1b859651d2ccf375bc96dfdd700000000000000000000002a  110.16   \n",
       "\n",
       "   quantity_in_$           ticker  \n",
       "0        1363.23  iNVDA/USDT PERP  "
      ]
     },
     "metadata": {},
     "output_type": "display_data"
    },
    {
     "name": "stdout",
     "output_type": "stream",
     "text": [
      "Fetching orders for iCOIN/USDT PERP...\n"
     ]
    },
    {
     "data": {
      "text/html": [
       "<div>\n",
       "<style scoped>\n",
       "    .dataframe tbody tr th:only-of-type {\n",
       "        vertical-align: middle;\n",
       "    }\n",
       "\n",
       "    .dataframe tbody tr th {\n",
       "        vertical-align: top;\n",
       "    }\n",
       "\n",
       "    .dataframe thead th {\n",
       "        text-align: right;\n",
       "    }\n",
       "</style>\n",
       "<table border=\"1\" class=\"dataframe\">\n",
       "  <thead>\n",
       "    <tr style=\"text-align: right;\">\n",
       "      <th></th>\n",
       "      <th>orderSide</th>\n",
       "      <th>subaccountId</th>\n",
       "      <th>price</th>\n",
       "      <th>quantity_in_$</th>\n",
       "      <th>ticker</th>\n",
       "    </tr>\n",
       "  </thead>\n",
       "  <tbody>\n",
       "    <tr>\n",
       "      <th>0</th>\n",
       "      <td>sell</td>\n",
       "      <td>0x935b705b5943b0e1b859651d2ccf375bc96dfdd700000000000000000000002f</td>\n",
       "      <td>174.6</td>\n",
       "      <td>1296.405</td>\n",
       "      <td>iCOIN/USDT PERP</td>\n",
       "    </tr>\n",
       "  </tbody>\n",
       "</table>\n",
       "</div>"
      ],
      "text/plain": [
       "  orderSide  \\\n",
       "0      sell   \n",
       "\n",
       "                                                         subaccountId  price  \\\n",
       "0  0x935b705b5943b0e1b859651d2ccf375bc96dfdd700000000000000000000002f  174.6   \n",
       "\n",
       "   quantity_in_$           ticker  \n",
       "0       1296.405  iCOIN/USDT PERP  "
      ]
     },
     "metadata": {},
     "output_type": "display_data"
    },
    {
     "name": "stdout",
     "output_type": "stream",
     "text": [
      "Fetching orders for iTSLA/USDT PERP...\n"
     ]
    },
    {
     "data": {
      "text/html": [
       "<div>\n",
       "<style scoped>\n",
       "    .dataframe tbody tr th:only-of-type {\n",
       "        vertical-align: middle;\n",
       "    }\n",
       "\n",
       "    .dataframe tbody tr th {\n",
       "        vertical-align: top;\n",
       "    }\n",
       "\n",
       "    .dataframe thead th {\n",
       "        text-align: right;\n",
       "    }\n",
       "</style>\n",
       "<table border=\"1\" class=\"dataframe\">\n",
       "  <thead>\n",
       "    <tr style=\"text-align: right;\">\n",
       "      <th></th>\n",
       "      <th>orderSide</th>\n",
       "      <th>subaccountId</th>\n",
       "      <th>price</th>\n",
       "      <th>quantity_in_$</th>\n",
       "      <th>ticker</th>\n",
       "    </tr>\n",
       "  </thead>\n",
       "  <tbody>\n",
       "    <tr>\n",
       "      <th>0</th>\n",
       "      <td>sell</td>\n",
       "      <td>0x935b705b5943b0e1b859651d2ccf375bc96dfdd700000000000000000000002b</td>\n",
       "      <td>268.59</td>\n",
       "      <td>1196.56845</td>\n",
       "      <td>iTSLA/USDT PERP</td>\n",
       "    </tr>\n",
       "  </tbody>\n",
       "</table>\n",
       "</div>"
      ],
      "text/plain": [
       "  orderSide  \\\n",
       "0      sell   \n",
       "\n",
       "                                                         subaccountId   price  \\\n",
       "0  0x935b705b5943b0e1b859651d2ccf375bc96dfdd700000000000000000000002b  268.59   \n",
       "\n",
       "   quantity_in_$           ticker  \n",
       "0     1196.56845  iTSLA/USDT PERP  "
      ]
     },
     "metadata": {},
     "output_type": "display_data"
    },
    {
     "name": "stdout",
     "output_type": "stream",
     "text": [
      "Fetching orders for iHOOD/USDT PERP...\n"
     ]
    },
    {
     "data": {
      "text/html": [
       "<div>\n",
       "<style scoped>\n",
       "    .dataframe tbody tr th:only-of-type {\n",
       "        vertical-align: middle;\n",
       "    }\n",
       "\n",
       "    .dataframe tbody tr th {\n",
       "        vertical-align: top;\n",
       "    }\n",
       "\n",
       "    .dataframe thead th {\n",
       "        text-align: right;\n",
       "    }\n",
       "</style>\n",
       "<table border=\"1\" class=\"dataframe\">\n",
       "  <thead>\n",
       "    <tr style=\"text-align: right;\">\n",
       "      <th></th>\n",
       "      <th>orderSide</th>\n",
       "      <th>subaccountId</th>\n",
       "      <th>price</th>\n",
       "      <th>quantity_in_$</th>\n",
       "      <th>ticker</th>\n",
       "    </tr>\n",
       "  </thead>\n",
       "  <tbody>\n",
       "    <tr>\n",
       "      <th>0</th>\n",
       "      <td>buy</td>\n",
       "      <td>0x935b705b5943b0e1b859651d2ccf375bc96dfdd700000000000000000000002d</td>\n",
       "      <td>41.99</td>\n",
       "      <td>1259.7</td>\n",
       "      <td>iHOOD/USDT PERP</td>\n",
       "    </tr>\n",
       "  </tbody>\n",
       "</table>\n",
       "</div>"
      ],
      "text/plain": [
       "  orderSide  \\\n",
       "0       buy   \n",
       "\n",
       "                                                         subaccountId  price  \\\n",
       "0  0x935b705b5943b0e1b859651d2ccf375bc96dfdd700000000000000000000002d  41.99   \n",
       "\n",
       "   quantity_in_$           ticker  \n",
       "0         1259.7  iHOOD/USDT PERP  "
      ]
     },
     "metadata": {},
     "output_type": "display_data"
    },
    {
     "name": "stdout",
     "output_type": "stream",
     "text": [
      "Fetching orders for iMCD/USDT PERP...\n"
     ]
    },
    {
     "data": {
      "text/html": [
       "<div>\n",
       "<style scoped>\n",
       "    .dataframe tbody tr th:only-of-type {\n",
       "        vertical-align: middle;\n",
       "    }\n",
       "\n",
       "    .dataframe tbody tr th {\n",
       "        vertical-align: top;\n",
       "    }\n",
       "\n",
       "    .dataframe thead th {\n",
       "        text-align: right;\n",
       "    }\n",
       "</style>\n",
       "<table border=\"1\" class=\"dataframe\">\n",
       "  <thead>\n",
       "    <tr style=\"text-align: right;\">\n",
       "      <th></th>\n",
       "      <th>orderSide</th>\n",
       "      <th>subaccountId</th>\n",
       "      <th>price</th>\n",
       "      <th>quantity_in_$</th>\n",
       "      <th>ticker</th>\n",
       "    </tr>\n",
       "  </thead>\n",
       "  <tbody>\n",
       "    <tr>\n",
       "      <th>0</th>\n",
       "      <td>buy</td>\n",
       "      <td>0x935b705b5943b0e1b859651d2ccf375bc96dfdd700000000000000000000002c</td>\n",
       "      <td>312.43</td>\n",
       "      <td>1405.935</td>\n",
       "      <td>iMCD/USDT PERP</td>\n",
       "    </tr>\n",
       "  </tbody>\n",
       "</table>\n",
       "</div>"
      ],
      "text/plain": [
       "  orderSide  \\\n",
       "0       buy   \n",
       "\n",
       "                                                         subaccountId   price  \\\n",
       "0  0x935b705b5943b0e1b859651d2ccf375bc96dfdd700000000000000000000002c  312.43   \n",
       "\n",
       "   quantity_in_$          ticker  \n",
       "0       1405.935  iMCD/USDT PERP  "
      ]
     },
     "metadata": {},
     "output_type": "display_data"
    },
    {
     "name": "stdout",
     "output_type": "stream",
     "text": [
      "Fetching orders for iGOOGL/USDT PERP...\n"
     ]
    },
    {
     "data": {
      "text/html": [
       "<div>\n",
       "<style scoped>\n",
       "    .dataframe tbody tr th:only-of-type {\n",
       "        vertical-align: middle;\n",
       "    }\n",
       "\n",
       "    .dataframe tbody tr th {\n",
       "        vertical-align: top;\n",
       "    }\n",
       "\n",
       "    .dataframe thead th {\n",
       "        text-align: right;\n",
       "    }\n",
       "</style>\n",
       "<table border=\"1\" class=\"dataframe\">\n",
       "  <thead>\n",
       "    <tr style=\"text-align: right;\">\n",
       "      <th></th>\n",
       "      <th>orderSide</th>\n",
       "      <th>subaccountId</th>\n",
       "      <th>price</th>\n",
       "      <th>quantity_in_$</th>\n",
       "      <th>ticker</th>\n",
       "    </tr>\n",
       "  </thead>\n",
       "  <tbody>\n",
       "    <tr>\n",
       "      <th>0</th>\n",
       "      <td>buy</td>\n",
       "      <td>0x935b705b5943b0e1b859651d2ccf375bc96dfdd700000000000000000000002e</td>\n",
       "      <td>156.42</td>\n",
       "      <td>1329.57</td>\n",
       "      <td>iGOOGL/USDT PERP</td>\n",
       "    </tr>\n",
       "  </tbody>\n",
       "</table>\n",
       "</div>"
      ],
      "text/plain": [
       "  orderSide  \\\n",
       "0       buy   \n",
       "\n",
       "                                                         subaccountId   price  \\\n",
       "0  0x935b705b5943b0e1b859651d2ccf375bc96dfdd700000000000000000000002e  156.42   \n",
       "\n",
       "   quantity_in_$            ticker  \n",
       "0        1329.57  iGOOGL/USDT PERP  "
      ]
     },
     "metadata": {},
     "output_type": "display_data"
    },
    {
     "name": "stdout",
     "output_type": "stream",
     "text": [
      "Fetching orders for TRADFI/USDT PERP...\n"
     ]
    },
    {
     "data": {
      "text/html": [
       "<div>\n",
       "<style scoped>\n",
       "    .dataframe tbody tr th:only-of-type {\n",
       "        vertical-align: middle;\n",
       "    }\n",
       "\n",
       "    .dataframe tbody tr th {\n",
       "        vertical-align: top;\n",
       "    }\n",
       "\n",
       "    .dataframe thead th {\n",
       "        text-align: right;\n",
       "    }\n",
       "</style>\n",
       "<table border=\"1\" class=\"dataframe\">\n",
       "  <thead>\n",
       "    <tr style=\"text-align: right;\">\n",
       "      <th></th>\n",
       "      <th>orderSide</th>\n",
       "      <th>subaccountId</th>\n",
       "      <th>price</th>\n",
       "      <th>quantity_in_$</th>\n",
       "      <th>ticker</th>\n",
       "    </tr>\n",
       "  </thead>\n",
       "  <tbody>\n",
       "    <tr>\n",
       "      <th>0</th>\n",
       "      <td>buy</td>\n",
       "      <td>0x935b705b5943b0e1b859651d2ccf375bc96dfdd700000000000000000000001b</td>\n",
       "      <td>559.09</td>\n",
       "      <td>1397.725</td>\n",
       "      <td>TRADFI/USDT PERP</td>\n",
       "    </tr>\n",
       "  </tbody>\n",
       "</table>\n",
       "</div>"
      ],
      "text/plain": [
       "  orderSide  \\\n",
       "0       buy   \n",
       "\n",
       "                                                         subaccountId   price  \\\n",
       "0  0x935b705b5943b0e1b859651d2ccf375bc96dfdd700000000000000000000001b  559.09   \n",
       "\n",
       "   quantity_in_$            ticker  \n",
       "0       1397.725  TRADFI/USDT PERP  "
      ]
     },
     "metadata": {},
     "output_type": "display_data"
    },
    {
     "name": "stdout",
     "output_type": "stream",
     "text": [
      "Fetching orders for TTI/USDT PERP...\n"
     ]
    },
    {
     "data": {
      "text/html": [
       "<div>\n",
       "<style scoped>\n",
       "    .dataframe tbody tr th:only-of-type {\n",
       "        vertical-align: middle;\n",
       "    }\n",
       "\n",
       "    .dataframe tbody tr th {\n",
       "        vertical-align: top;\n",
       "    }\n",
       "\n",
       "    .dataframe thead th {\n",
       "        text-align: right;\n",
       "    }\n",
       "</style>\n",
       "<table border=\"1\" class=\"dataframe\">\n",
       "  <thead>\n",
       "    <tr style=\"text-align: right;\">\n",
       "      <th></th>\n",
       "      <th>orderSide</th>\n",
       "      <th>subaccountId</th>\n",
       "      <th>price</th>\n",
       "      <th>quantity_in_$</th>\n",
       "      <th>ticker</th>\n",
       "    </tr>\n",
       "  </thead>\n",
       "  <tbody>\n",
       "    <tr>\n",
       "      <th>0</th>\n",
       "      <td>buy</td>\n",
       "      <td>0x935b705b5943b0e1b859651d2ccf375bc96dfdd7000000000000000000000016</td>\n",
       "      <td>470.99</td>\n",
       "      <td>1412.97</td>\n",
       "      <td>TTI/USDT PERP</td>\n",
       "    </tr>\n",
       "  </tbody>\n",
       "</table>\n",
       "</div>"
      ],
      "text/plain": [
       "  orderSide  \\\n",
       "0       buy   \n",
       "\n",
       "                                                         subaccountId   price  \\\n",
       "0  0x935b705b5943b0e1b859651d2ccf375bc96dfdd7000000000000000000000016  470.99   \n",
       "\n",
       "   quantity_in_$         ticker  \n",
       "0        1412.97  TTI/USDT PERP  "
      ]
     },
     "metadata": {},
     "output_type": "display_data"
    },
    {
     "name": "stdout",
     "output_type": "stream",
     "text": [
      "Combined CSV saved as orders_inj1jddhqk6egwcwrwzev5wjeneht0ykmlwhcehc4z.csv\n"
     ]
    }
   ],
   "source": [
    "from functions import marketId_to_ticker\n",
    "from IPython.display import display\n",
    "import pandas as pd\n",
    "\n",
    "tickers = [\"iMSTR/USDT PERP\", \"iNVDA/USDT PERP\", \"iCOIN/USDT PERP\", \"iTSLA/USDT PERP\", \"iHOOD/USDT PERP\", \"iMCD/USDT PERP\", \"iGOOGL/USDT PERP\", \"TRADFI/USDT PERP\", \"TTI/USDT PERP\"]\n",
    "\n",
    "address = \"inj1jddhqk6egwcwrwzev5wjeneht0ykmlwhcehc4z\"\n",
    "\n",
    "async def main():\n",
    "\n",
    "    combined_df = pd.DataFrame()\n",
    "\n",
    "    for ticker in tickers:\n",
    "        market_id = await marketId_to_ticker(ticker)\n",
    "        if market_id:\n",
    "            print(f\"Fetching orders for {ticker}...\")\n",
    "            df = await subfinder(account_address=address, market_id=market_id[0])\n",
    "            \n",
    "            df = df.iloc[:1]\n",
    "            \n",
    "            df['ticker'] = ticker\n",
    "            \n",
    "            display(df)\n",
    "            \n",
    "            combined_df = pd.concat([combined_df, df], ignore_index=True)\n",
    "            column_to_drop = [\"orderSide\",\"price\", \"quantity_in_$\"]\n",
    "            combined_df.drop(columns=column_to_drop, inplace=True)\n",
    "\n",
    "    combined_df.to_csv(f\"orders_{address}.csv\", index=False)\n",
    "    print(f\"Combined CSV saved as orders_{address}.csv\")\n",
    "\n",
    "await main()"
   ]
  }
 ],
 "metadata": {
  "kernelspec": {
   "display_name": "base",
   "language": "python",
   "name": "python3"
  },
  "language_info": {
   "codemirror_mode": {
    "name": "ipython",
    "version": 3
   },
   "file_extension": ".py",
   "mimetype": "text/x-python",
   "name": "python",
   "nbconvert_exporter": "python",
   "pygments_lexer": "ipython3",
   "version": "3.11.5"
  }
 },
 "nbformat": 4,
 "nbformat_minor": 2
}
