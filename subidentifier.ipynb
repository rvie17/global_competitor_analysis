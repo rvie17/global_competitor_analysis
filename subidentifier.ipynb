{
 "cells": [
  {
   "cell_type": "code",
   "execution_count": 1,
   "metadata": {},
   "outputs": [
    {
     "name": "stderr",
     "output_type": "stream",
     "text": [
      "/Users/rvie/Library/Python/3.9/lib/python/site-packages/urllib3/__init__.py:35: NotOpenSSLWarning: urllib3 v2 only supports OpenSSL 1.1.1+, currently the 'ssl' module is compiled with 'LibreSSL 2.8.3'. See: https://github.com/urllib3/urllib3/issues/3020\n",
      "  warnings.warn(\n"
     ]
    }
   ],
   "source": [
    "import asyncio\n",
    "\n",
    "from pyinjective.async_client import AsyncClient\n",
    "from pyinjective.client.model.pagination import PaginationOption\n",
    "from pyinjective.core.network import Network\n",
    "import pandas as pd \n",
    "\n",
    "async def sub_order(account_address) -> None:\n",
    "    network = Network.local()\n",
    "    client = AsyncClient(network)\n",
    "    subacc_list = await client.fetch_subaccounts_list(account_address)\n",
    "    return subacc_list[\"subaccounts\"]\n",
    "\n",
    "async def order_list(subaccount_id,market_id) -> None:\n",
    "    # select network: local, testnet, mainnet\n",
    "    network = Network.local()\n",
    "    client = AsyncClient(network)\n",
    "    skip = 0\n",
    "    limit = 100\n",
    "    pagination = PaginationOption(skip=skip, limit=limit)\n",
    "    orders = await client.fetch_subaccount_orders_list(\n",
    "        subaccount_id=subaccount_id, market_id=market_id, pagination=pagination\n",
    "    )\n",
    "    return orders['orders']\n",
    "\n",
    "async def subfinder(account_address,market_id) -> None:\n",
    "    all_orders =  []\n",
    "    subacc_list = await sub_order(account_address)\n",
    "    for i in subacc_list: \n",
    "        all_orders.extend(await order_list(i,market_id))\n",
    "\n",
    "    df = pd.DataFrame(all_orders)\n",
    "    pd.set_option('display.max_colwidth', 100)\n",
    "    #print(df)\n",
    "    df = df[[\"orderSide\",\"subaccountId\",\"price\",\"quantity\"]]\n",
    "    df[\"price\"] = df[\"price\"].astype(float)/1e6\n",
    "    df[\"quantity\"] = df[\"quantity\"].astype(float)\n",
    "    df[\"quantity_in_$\"] = df[\"price\"] * df[\"quantity\"]\n",
    "    df = df[[\"orderSide\",\"subaccountId\",\"price\",\"quantity_in_$\"]]\n",
    "    return df\n",
    "\n"
   ]
  },
  {
   "cell_type": "code",
   "execution_count": 2,
   "metadata": {},
   "outputs": [
    {
     "data": {
      "text/html": [
       "<div>\n",
       "<style scoped>\n",
       "    .dataframe tbody tr th:only-of-type {\n",
       "        vertical-align: middle;\n",
       "    }\n",
       "\n",
       "    .dataframe tbody tr th {\n",
       "        vertical-align: top;\n",
       "    }\n",
       "\n",
       "    .dataframe thead th {\n",
       "        text-align: right;\n",
       "    }\n",
       "</style>\n",
       "<table border=\"1\" class=\"dataframe\">\n",
       "  <thead>\n",
       "    <tr style=\"text-align: right;\">\n",
       "      <th></th>\n",
       "      <th>orderSide</th>\n",
       "      <th>subaccountId</th>\n",
       "      <th>price</th>\n",
       "      <th>quantity_in_$</th>\n",
       "    </tr>\n",
       "  </thead>\n",
       "  <tbody>\n",
       "    <tr>\n",
       "      <th>0</th>\n",
       "      <td>buy</td>\n",
       "      <td>0x935b705b5943b0e1b859651d2ccf375bc96dfdd7000000000000000000000008</td>\n",
       "      <td>36.44</td>\n",
       "      <td>50307.242</td>\n",
       "    </tr>\n",
       "    <tr>\n",
       "      <th>1</th>\n",
       "      <td>buy</td>\n",
       "      <td>0x935b705b5943b0e1b859651d2ccf375bc96dfdd7000000000000000000000008</td>\n",
       "      <td>36.40</td>\n",
       "      <td>6861.400</td>\n",
       "    </tr>\n",
       "    <tr>\n",
       "      <th>2</th>\n",
       "      <td>sell</td>\n",
       "      <td>0x935b705b5943b0e1b859651d2ccf375bc96dfdd7000000000000000000000008</td>\n",
       "      <td>36.60</td>\n",
       "      <td>6899.100</td>\n",
       "    </tr>\n",
       "  </tbody>\n",
       "</table>\n",
       "</div>"
      ],
      "text/plain": [
       "  orderSide  \\\n",
       "0       buy   \n",
       "1       buy   \n",
       "2      sell   \n",
       "\n",
       "                                                         subaccountId  price  \\\n",
       "0  0x935b705b5943b0e1b859651d2ccf375bc96dfdd7000000000000000000000008  36.44   \n",
       "1  0x935b705b5943b0e1b859651d2ccf375bc96dfdd7000000000000000000000008  36.40   \n",
       "2  0x935b705b5943b0e1b859651d2ccf375bc96dfdd7000000000000000000000008  36.60   \n",
       "\n",
       "   quantity_in_$  \n",
       "0      50307.242  \n",
       "1       6861.400  \n",
       "2       6899.100  "
      ]
     },
     "execution_count": 2,
     "metadata": {},
     "output_type": "execute_result"
    }
   ],
   "source": [
    "from functions import marketId_to_ticker\n",
    "\n",
    "ticker = \"TRUMP/USDT PERP\"\n",
    "address = \"inj1jddhqk6egwcwrwzev5wjeneht0ykmlwhcehc4z\"\n",
    "\n",
    "market_id = await marketId_to_ticker(ticker)\n",
    "await subfinder(account_address=address,market_id=market_id[0])"
   ]
  }
 ],
 "metadata": {
  "kernelspec": {
   "display_name": "Python 3",
   "language": "python",
   "name": "python3"
  },
  "language_info": {
   "codemirror_mode": {
    "name": "ipython",
    "version": 3
   },
   "file_extension": ".py",
   "mimetype": "text/x-python",
   "name": "python",
   "nbconvert_exporter": "python",
   "pygments_lexer": "ipython3",
   "version": "3.9.6"
  }
 },
 "nbformat": 4,
 "nbformat_minor": 2
}
