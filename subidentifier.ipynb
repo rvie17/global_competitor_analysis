{
 "cells": [
  {
   "cell_type": "code",
   "execution_count": 11,
   "metadata": {},
   "outputs": [],
   "source": [
    "import asyncio\n",
    "\n",
    "from pyinjective.async_client import AsyncClient\n",
    "from pyinjective.client.model.pagination import PaginationOption\n",
    "from pyinjective.core.network import Network\n",
    "import pandas as pd \n",
    "\n",
    "async def sub_order(account_address) -> None:\n",
    "    network = Network.local()\n",
    "    client = AsyncClient(network)\n",
    "    subacc_list = await client.fetch_subaccounts_list(account_address)\n",
    "    return subacc_list[\"subaccounts\"]\n",
    "\n",
    "async def order_list(subaccount_id,market_id) -> None:\n",
    "    # select network: local, testnet, mainnet\n",
    "    network = Network.local()\n",
    "    client = AsyncClient(network)\n",
    "    skip = 0\n",
    "    limit = 100\n",
    "    pagination = PaginationOption(skip=skip, limit=limit)\n",
    "    orders = await client.fetch_subaccount_orders_list(\n",
    "        subaccount_id=subaccount_id, market_id=market_id, pagination=pagination\n",
    "    )\n",
    "    return orders['orders']\n",
    "\n",
    "async def subfinder(account_address,market_id) -> None:\n",
    "    all_orders =  []\n",
    "    subacc_list = await sub_order(account_address)\n",
    "    for i in subacc_list: \n",
    "        all_orders.extend(await order_list(i,market_id))\n",
    "\n",
    "    df = pd.DataFrame(all_orders)\n",
    "    pd.set_option('display.max_colwidth', 100)\n",
    "    df = df[[\"orderSide\",\"subaccountId\",\"price\",\"quantity\"]]\n",
    "\n",
    "    return df\n",
    "\n",
    "\n",
    "market_id = \"0x2d7092545081b81ba33bf817b302f9609254f15f4354016631aec3bb39461f99\"\n",
    "\n",
    "#await subfinder(account_address=\"inj1jddhqk6egwcwrwzev5wjeneht0ykmlwhcehc4z\",market_id=\"0x2d7092545081b81ba33bf817b302f9609254f15f4354016631aec3bb39461f99\")"
   ]
  },
  {
   "cell_type": "code",
   "execution_count": 12,
   "metadata": {},
   "outputs": [
    {
     "data": {
      "text/html": [
       "<div>\n",
       "<style scoped>\n",
       "    .dataframe tbody tr th:only-of-type {\n",
       "        vertical-align: middle;\n",
       "    }\n",
       "\n",
       "    .dataframe tbody tr th {\n",
       "        vertical-align: top;\n",
       "    }\n",
       "\n",
       "    .dataframe thead th {\n",
       "        text-align: right;\n",
       "    }\n",
       "</style>\n",
       "<table border=\"1\" class=\"dataframe\">\n",
       "  <thead>\n",
       "    <tr style=\"text-align: right;\">\n",
       "      <th></th>\n",
       "      <th>orderSide</th>\n",
       "      <th>subaccountId</th>\n",
       "      <th>price</th>\n",
       "      <th>quantity</th>\n",
       "    </tr>\n",
       "  </thead>\n",
       "  <tbody>\n",
       "    <tr>\n",
       "      <th>0</th>\n",
       "      <td>buy</td>\n",
       "      <td>0x935b705b5943b0e1b859651d2ccf375bc96dfdd7000000000000000000000011</td>\n",
       "      <td>15.578</td>\n",
       "      <td>2097000000</td>\n",
       "    </tr>\n",
       "    <tr>\n",
       "      <th>1</th>\n",
       "      <td>sell</td>\n",
       "      <td>0x935b705b5943b0e1b859651d2ccf375bc96dfdd7000000000000000000000011</td>\n",
       "      <td>15.622</td>\n",
       "      <td>2097000000</td>\n",
       "    </tr>\n",
       "  </tbody>\n",
       "</table>\n",
       "</div>"
      ],
      "text/plain": [
       "  orderSide  \\\n",
       "0       buy   \n",
       "1      sell   \n",
       "\n",
       "                                                         subaccountId   price  \\\n",
       "0  0x935b705b5943b0e1b859651d2ccf375bc96dfdd7000000000000000000000011  15.578   \n",
       "1  0x935b705b5943b0e1b859651d2ccf375bc96dfdd7000000000000000000000011  15.622   \n",
       "\n",
       "     quantity  \n",
       "0  2097000000  \n",
       "1  2097000000  "
      ]
     },
     "execution_count": 12,
     "metadata": {},
     "output_type": "execute_result"
    }
   ],
   "source": [
    "from functions import marketId_to_ticker\n",
    "\n",
    "ticker = \"PEPE/USDT PERP\"\n",
    "address = \"inj1jddhqk6egwcwrwzev5wjeneht0ykmlwhcehc4z\"\n",
    "\n",
    "market_id = await marketId_to_ticker(ticker)\n",
    "await subfinder(account_address=address,market_id=market_id[0])"
   ]
  }
 ],
 "metadata": {
  "kernelspec": {
   "display_name": "Python 3",
   "language": "python",
   "name": "python3"
  },
  "language_info": {
   "codemirror_mode": {
    "name": "ipython",
    "version": 3
   },
   "file_extension": ".py",
   "mimetype": "text/x-python",
   "name": "python",
   "nbconvert_exporter": "python",
   "pygments_lexer": "ipython3",
   "version": "3.9.6"
  }
 },
 "nbformat": 4,
 "nbformat_minor": 2
}
