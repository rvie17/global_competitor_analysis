{
 "cells": [
  {
   "cell_type": "code",
   "execution_count": 5,
   "metadata": {},
   "outputs": [
    {
     "ename": "AioRpcError",
     "evalue": "<AioRpcError of RPC that terminated with:\n\tstatus = StatusCode.UNAVAILABLE\n\tdetails = \"failed to connect to all addresses; last error: UNKNOWN: ipv4:127.0.0.1:9910: Failed to connect to remote host: connect: Connection refused (61)\"\n\tdebug_error_string = \"UNKNOWN:Error received from peer  {created_time:\"2025-03-20T21:35:31.283279+01:00\", grpc_status:14, grpc_message:\"failed to connect to all addresses; last error: UNKNOWN: ipv4:127.0.0.1:9910: Failed to connect to remote host: connect: Connection refused (61)\"}\"\n>",
     "output_type": "error",
     "traceback": [
      "\u001b[0;31m---------------------------------------------------------------------------\u001b[0m",
      "\u001b[0;31mAioRpcError\u001b[0m                               Traceback (most recent call last)",
      "Cell \u001b[0;32mIn[5], line 204\u001b[0m\n\u001b[1;32m    202\u001b[0m     df_futures \u001b[38;5;241m=\u001b[39m \u001b[38;5;28;01mawait\u001b[39;00m fetch_derivative_orders(subaccount_id, market_ids, start_date, end_date,client)\n\u001b[1;32m    203\u001b[0m     \u001b[38;5;28;01mreturn\u001b[39;00m df_spot,df_futures\n\u001b[0;32m--> 204\u001b[0m df_spot,df_futures \u001b[38;5;241m=\u001b[39m \u001b[38;5;28;01mawait\u001b[39;00m main()\n",
      "Cell \u001b[0;32mIn[5], line 201\u001b[0m, in \u001b[0;36mmain\u001b[0;34m()\u001b[0m\n\u001b[1;32m    198\u001b[0m end_date \u001b[38;5;241m=\u001b[39m now\u001b[38;5;241m.\u001b[39mstrftime(\u001b[38;5;124m'\u001b[39m\u001b[38;5;124m%\u001b[39m\u001b[38;5;124mY-\u001b[39m\u001b[38;5;124m%\u001b[39m\u001b[38;5;124mm-\u001b[39m\u001b[38;5;132;01m%d\u001b[39;00m\u001b[38;5;124m \u001b[39m\u001b[38;5;124m%\u001b[39m\u001b[38;5;124mH:\u001b[39m\u001b[38;5;124m%\u001b[39m\u001b[38;5;124mM:\u001b[39m\u001b[38;5;124m%\u001b[39m\u001b[38;5;124mS\u001b[39m\u001b[38;5;124m'\u001b[39m)\n\u001b[1;32m    200\u001b[0m \u001b[38;5;66;03m# Call the fetch_derivative_orders function\u001b[39;00m\n\u001b[0;32m--> 201\u001b[0m df_spot \u001b[38;5;241m=\u001b[39m \u001b[38;5;28;01mawait\u001b[39;00m fetch_spot_orders(subaccount_id, market_ids, start_date, end_date,client)\n\u001b[1;32m    202\u001b[0m df_futures \u001b[38;5;241m=\u001b[39m \u001b[38;5;28;01mawait\u001b[39;00m fetch_derivative_orders(subaccount_id, market_ids, start_date, end_date,client)\n\u001b[1;32m    203\u001b[0m \u001b[38;5;28;01mreturn\u001b[39;00m df_spot,df_futures\n",
      "Cell \u001b[0;32mIn[5], line 33\u001b[0m, in \u001b[0;36mfetch_spot_orders\u001b[0;34m(subaccount_id, market_ids, start_date, end_date, client)\u001b[0m\n\u001b[1;32m     23\u001b[0m pagination \u001b[38;5;241m=\u001b[39m PaginationOption(skip\u001b[38;5;241m=\u001b[39mskip, limit\u001b[38;5;241m=\u001b[39mlimit)\n\u001b[1;32m     25\u001b[0m \u001b[38;5;66;03m# Fetch the orders history\u001b[39;00m\n\u001b[1;32m     26\u001b[0m \u001b[38;5;66;03m# orders_response = await client.fetch_derivative_orders_history(\u001b[39;00m\n\u001b[1;32m     27\u001b[0m \u001b[38;5;66;03m#     subaccount_id=subaccount_id,\u001b[39;00m\n\u001b[0;32m   (...)\u001b[0m\n\u001b[1;32m     30\u001b[0m \u001b[38;5;66;03m#     pagination=pagination,\u001b[39;00m\n\u001b[1;32m     31\u001b[0m \u001b[38;5;66;03m# )\u001b[39;00m\n\u001b[0;32m---> 33\u001b[0m orders_response \u001b[38;5;241m=\u001b[39m \u001b[38;5;28;01mawait\u001b[39;00m client\u001b[38;5;241m.\u001b[39mfetch_spot_orders_history(\n\u001b[1;32m     34\u001b[0m     subaccount_id\u001b[38;5;241m=\u001b[39msubaccount_id,\n\u001b[1;32m     35\u001b[0m     \u001b[38;5;66;03m#market_ids=market_ids,\u001b[39;00m\n\u001b[1;32m     36\u001b[0m     \u001b[38;5;66;03m# is_conditional=\"false\",\u001b[39;00m\n\u001b[1;32m     37\u001b[0m     pagination\u001b[38;5;241m=\u001b[39mpagination,\n\u001b[1;32m     38\u001b[0m )\n\u001b[1;32m     41\u001b[0m \u001b[38;5;66;03m# Break the loop if no orders were returned\u001b[39;00m\n\u001b[1;32m     42\u001b[0m \u001b[38;5;28;01mif\u001b[39;00m \u001b[38;5;129;01mnot\u001b[39;00m orders_response[\u001b[38;5;124m'\u001b[39m\u001b[38;5;124morders\u001b[39m\u001b[38;5;124m'\u001b[39m]:\n",
      "File \u001b[0;32m~/Library/Python/3.9/lib/python/site-packages/pyinjective/async_client.py:1930\u001b[0m, in \u001b[0;36mAsyncClient.fetch_spot_orders_history\u001b[0;34m(self, subaccount_id, market_ids, order_types, direction, state, execution_types, trade_id, active_markets_only, cid, pagination)\u001b[0m\n\u001b[1;32m   1917\u001b[0m \u001b[38;5;28;01masync\u001b[39;00m \u001b[38;5;28;01mdef\u001b[39;00m \u001b[38;5;21mfetch_spot_orders_history\u001b[39m(\n\u001b[1;32m   1918\u001b[0m     \u001b[38;5;28mself\u001b[39m,\n\u001b[1;32m   1919\u001b[0m     subaccount_id: Optional[\u001b[38;5;28mstr\u001b[39m] \u001b[38;5;241m=\u001b[39m \u001b[38;5;28;01mNone\u001b[39;00m,\n\u001b[0;32m   (...)\u001b[0m\n\u001b[1;32m   1928\u001b[0m     pagination: Optional[PaginationOption] \u001b[38;5;241m=\u001b[39m \u001b[38;5;28;01mNone\u001b[39;00m,\n\u001b[1;32m   1929\u001b[0m ) \u001b[38;5;241m-\u001b[39m\u001b[38;5;241m>\u001b[39m Dict[\u001b[38;5;28mstr\u001b[39m, Any]:\n\u001b[0;32m-> 1930\u001b[0m     \u001b[38;5;28;01mreturn\u001b[39;00m \u001b[38;5;28;01mawait\u001b[39;00m \u001b[38;5;28mself\u001b[39m\u001b[38;5;241m.\u001b[39mexchange_spot_api\u001b[38;5;241m.\u001b[39mfetch_orders_history(\n\u001b[1;32m   1931\u001b[0m         subaccount_id\u001b[38;5;241m=\u001b[39msubaccount_id,\n\u001b[1;32m   1932\u001b[0m         market_ids\u001b[38;5;241m=\u001b[39mmarket_ids,\n\u001b[1;32m   1933\u001b[0m         order_types\u001b[38;5;241m=\u001b[39morder_types,\n\u001b[1;32m   1934\u001b[0m         direction\u001b[38;5;241m=\u001b[39mdirection,\n\u001b[1;32m   1935\u001b[0m         state\u001b[38;5;241m=\u001b[39mstate,\n\u001b[1;32m   1936\u001b[0m         execution_types\u001b[38;5;241m=\u001b[39mexecution_types,\n\u001b[1;32m   1937\u001b[0m         trade_id\u001b[38;5;241m=\u001b[39mtrade_id,\n\u001b[1;32m   1938\u001b[0m         active_markets_only\u001b[38;5;241m=\u001b[39mactive_markets_only,\n\u001b[1;32m   1939\u001b[0m         cid\u001b[38;5;241m=\u001b[39mcid,\n\u001b[1;32m   1940\u001b[0m         pagination\u001b[38;5;241m=\u001b[39mpagination,\n\u001b[1;32m   1941\u001b[0m     )\n",
      "File \u001b[0;32m~/Library/Python/3.9/lib/python/site-packages/pyinjective/client/indexer/grpc/indexer_grpc_spot_api.py:184\u001b[0m, in \u001b[0;36mIndexerGrpcSpotApi.fetch_orders_history\u001b[0;34m(self, subaccount_id, market_ids, order_types, direction, state, execution_types, trade_id, active_markets_only, cid, pagination)\u001b[0m\n\u001b[1;32m    167\u001b[0m pagination \u001b[38;5;241m=\u001b[39m pagination \u001b[38;5;129;01mor\u001b[39;00m PaginationOption()\n\u001b[1;32m    168\u001b[0m request \u001b[38;5;241m=\u001b[39m exchange_spot_pb\u001b[38;5;241m.\u001b[39mOrdersHistoryRequest(\n\u001b[1;32m    169\u001b[0m     subaccount_id\u001b[38;5;241m=\u001b[39msubaccount_id,\n\u001b[1;32m    170\u001b[0m     market_ids\u001b[38;5;241m=\u001b[39mmarket_ids,\n\u001b[0;32m   (...)\u001b[0m\n\u001b[1;32m    181\u001b[0m     cid\u001b[38;5;241m=\u001b[39mcid,\n\u001b[1;32m    182\u001b[0m )\n\u001b[0;32m--> 184\u001b[0m response \u001b[38;5;241m=\u001b[39m \u001b[38;5;28;01mawait\u001b[39;00m \u001b[38;5;28mself\u001b[39m\u001b[38;5;241m.\u001b[39m_execute_call(call\u001b[38;5;241m=\u001b[39m\u001b[38;5;28mself\u001b[39m\u001b[38;5;241m.\u001b[39m_stub\u001b[38;5;241m.\u001b[39mOrdersHistory, request\u001b[38;5;241m=\u001b[39mrequest)\n\u001b[1;32m    186\u001b[0m \u001b[38;5;28;01mreturn\u001b[39;00m response\n",
      "File \u001b[0;32m~/Library/Python/3.9/lib/python/site-packages/pyinjective/client/indexer/grpc/indexer_grpc_spot_api.py:241\u001b[0m, in \u001b[0;36mIndexerGrpcSpotApi._execute_call\u001b[0;34m(self, call, request)\u001b[0m\n\u001b[1;32m    240\u001b[0m \u001b[38;5;28;01masync\u001b[39;00m \u001b[38;5;28;01mdef\u001b[39;00m \u001b[38;5;21m_execute_call\u001b[39m(\u001b[38;5;28mself\u001b[39m, call: Callable, request) \u001b[38;5;241m-\u001b[39m\u001b[38;5;241m>\u001b[39m Dict[\u001b[38;5;28mstr\u001b[39m, Any]:\n\u001b[0;32m--> 241\u001b[0m     \u001b[38;5;28;01mreturn\u001b[39;00m \u001b[38;5;28;01mawait\u001b[39;00m \u001b[38;5;28mself\u001b[39m\u001b[38;5;241m.\u001b[39m_assistant\u001b[38;5;241m.\u001b[39mexecute_call(call\u001b[38;5;241m=\u001b[39mcall, request\u001b[38;5;241m=\u001b[39mrequest)\n",
      "File \u001b[0;32m~/Library/Python/3.9/lib/python/site-packages/pyinjective/utils/grpc_api_request_assistant.py:16\u001b[0m, in \u001b[0;36mGrpcApiRequestAssistant.execute_call\u001b[0;34m(self, call, request)\u001b[0m\n\u001b[1;32m     14\u001b[0m metadata \u001b[38;5;241m=\u001b[39m \u001b[38;5;28mself\u001b[39m\u001b[38;5;241m.\u001b[39m_cookie_assistant\u001b[38;5;241m.\u001b[39mmetadata()\n\u001b[1;32m     15\u001b[0m grpc_call \u001b[38;5;241m=\u001b[39m call(request, metadata\u001b[38;5;241m=\u001b[39mmetadata)\n\u001b[0;32m---> 16\u001b[0m response \u001b[38;5;241m=\u001b[39m \u001b[38;5;28;01mawait\u001b[39;00m grpc_call\n\u001b[1;32m     18\u001b[0m \u001b[38;5;28;01mawait\u001b[39;00m \u001b[38;5;28mself\u001b[39m\u001b[38;5;241m.\u001b[39m_cookie_assistant\u001b[38;5;241m.\u001b[39mprocess_response_metadata(grpc_call\u001b[38;5;241m=\u001b[39mgrpc_call)\n\u001b[1;32m     20\u001b[0m result \u001b[38;5;241m=\u001b[39m json_format\u001b[38;5;241m.\u001b[39mMessageToDict(\n\u001b[1;32m     21\u001b[0m     message\u001b[38;5;241m=\u001b[39mresponse,\n\u001b[1;32m     22\u001b[0m     always_print_fields_with_no_presence\u001b[38;5;241m=\u001b[39m\u001b[38;5;28;01mTrue\u001b[39;00m,\n\u001b[1;32m     23\u001b[0m )\n",
      "File \u001b[0;32m~/Library/Python/3.9/lib/python/site-packages/grpc/aio/_call.py:327\u001b[0m, in \u001b[0;36m_UnaryResponseMixin.__await__\u001b[0;34m(self)\u001b[0m\n\u001b[1;32m    325\u001b[0m         \u001b[38;5;28;01mraise\u001b[39;00m asyncio\u001b[38;5;241m.\u001b[39mCancelledError()\n\u001b[1;32m    326\u001b[0m     \u001b[38;5;28;01melse\u001b[39;00m:\n\u001b[0;32m--> 327\u001b[0m         \u001b[38;5;28;01mraise\u001b[39;00m _create_rpc_error(\n\u001b[1;32m    328\u001b[0m             \u001b[38;5;28mself\u001b[39m\u001b[38;5;241m.\u001b[39m_cython_call\u001b[38;5;241m.\u001b[39m_initial_metadata,\n\u001b[1;32m    329\u001b[0m             \u001b[38;5;28mself\u001b[39m\u001b[38;5;241m.\u001b[39m_cython_call\u001b[38;5;241m.\u001b[39m_status,\n\u001b[1;32m    330\u001b[0m         )\n\u001b[1;32m    331\u001b[0m \u001b[38;5;28;01melse\u001b[39;00m:\n\u001b[1;32m    332\u001b[0m     \u001b[38;5;28;01mreturn\u001b[39;00m response\n",
      "\u001b[0;31mAioRpcError\u001b[0m: <AioRpcError of RPC that terminated with:\n\tstatus = StatusCode.UNAVAILABLE\n\tdetails = \"failed to connect to all addresses; last error: UNKNOWN: ipv4:127.0.0.1:9910: Failed to connect to remote host: connect: Connection refused (61)\"\n\tdebug_error_string = \"UNKNOWN:Error received from peer  {created_time:\"2025-03-20T21:35:31.283279+01:00\", grpc_status:14, grpc_message:\"failed to connect to all addresses; last error: UNKNOWN: ipv4:127.0.0.1:9910: Failed to connect to remote host: connect: Connection refused (61)\"}\"\n>"
     ]
    }
   ],
   "source": [
    "import asyncio\n",
    "import pandas as pd\n",
    "from pyinjective.async_client import AsyncClient\n",
    "from pyinjective.client.model.pagination import PaginationOption\n",
    "from pyinjective.core.network import Network\n",
    "from datetime import datetime, timedelta\n",
    "\n",
    "\n",
    "# Initialize the network and client\n",
    "network = Network.local()\n",
    "client = AsyncClient(network)\n",
    "\n",
    "async def fetch_spot_orders(subaccount_id, market_ids, start_date, end_date, client):\n",
    "    # Convert start and end dates to milliseconds since epoch\n",
    "    start_timestamp = int(datetime.strptime(start_date, \"%Y-%m-%d %H:%M:%S\").timestamp() * 1000)\n",
    "    end_timestamp = int(datetime.strptime(end_date, \"%Y-%m-%d %H:%M:%S\").timestamp() * 1000)\n",
    "\n",
    "    orders_list = []\n",
    "    skip = 0\n",
    "    limit = 100  # Set the number of results to fetch per request\n",
    "\n",
    "    while True:\n",
    "        pagination = PaginationOption(skip=skip, limit=limit)\n",
    "\n",
    "        # Fetch the orders history\n",
    "        # orders_response = await client.fetch_derivative_orders_history(\n",
    "        #     subaccount_id=subaccount_id,\n",
    "        #     #market_ids=market_ids,\n",
    "        #     is_conditional=\"false\",\n",
    "        #     pagination=pagination,\n",
    "        # )\n",
    "\n",
    "        orders_response = await client.fetch_spot_orders_history(\n",
    "            subaccount_id=subaccount_id,\n",
    "            #market_ids=market_ids,\n",
    "            # is_conditional=\"false\",\n",
    "            pagination=pagination,\n",
    "        )\n",
    "        \n",
    "        \n",
    "        # Break the loop if no orders were returned\n",
    "        if not orders_response['orders']:\n",
    "            break\n",
    "\n",
    "        # Iterate through each order\n",
    "        for order in orders_response['orders']:\n",
    "            created_at = pd.to_datetime(order['createdAt'], unit='ms')\n",
    "            updated_at = pd.to_datetime(order['updatedAt'], unit='ms')\n",
    "            \n",
    "            \n",
    "            # Stop if we've gone past the start date\n",
    "\n",
    "            start_timestamp = pd.to_datetime(start_timestamp, unit='ms')\n",
    "\n",
    "            print (created_at)\n",
    "            print (start_timestamp)\n",
    "\n",
    "\n",
    "            if created_at < start_timestamp:\n",
    "                # Save orders to CSV and return\n",
    "                df_orders = pd.DataFrame(orders_list)\n",
    "                #df_orders.to_csv(csv_name, index=False)\n",
    "                return df_orders\n",
    "            \n",
    "            # Generate the time range between createdAt and updatedAt\n",
    "            \n",
    "            # For each second in the time range, add a new row to the data\n",
    "    \n",
    "            orders_list.append({\n",
    "                'orderHash': order['orderHash'],\n",
    "                'marketId': order['marketId'],\n",
    "                'subaccountId': order['subaccountId'],\n",
    "                'executionType': order['executionType'],\n",
    "                'orderType': order['orderType'],\n",
    "                'price': order['price'],\n",
    "                'quantity': order['quantity'],\n",
    "                'updated_at': updated_at,\n",
    "                'state': order['state'],\n",
    "                'created_at': created_at,\n",
    "            })\n",
    "\n",
    "        # Increment skip for pagination\n",
    "        skip += limit\n",
    "\n",
    "    # Save remaining orders to CSV\n",
    "    df_orders = pd.DataFrame(orders_list)\n",
    "\n",
    "    return df_orders\n",
    "async def fetch_derivative_orders(subaccount_id, market_ids, start_date, end_date, client):\n",
    "    # Convert start and end dates to milliseconds since epoch\n",
    "    start_timestamp = int(datetime.strptime(start_date, \"%Y-%m-%d %H:%M:%S\").timestamp() * 1000)\n",
    "    end_timestamp = int(datetime.strptime(end_date, \"%Y-%m-%d %H:%M:%S\").timestamp() * 1000)\n",
    "\n",
    "    orders_list = []\n",
    "    skip = 0\n",
    "    limit = 100  # Set the number of results to fetch per request\n",
    "\n",
    "    while True:\n",
    "        pagination = PaginationOption(skip=skip, limit=limit)\n",
    "\n",
    "        #Fetch the orders history\n",
    "        orders_response = await client.fetch_derivative_orders_history(\n",
    "            subaccount_id=subaccount_id,\n",
    "            #market_ids=market_ids,\n",
    "            is_conditional=\"false\",\n",
    "            pagination=pagination,\n",
    "        )\n",
    "\n",
    "        # orders_response = await client.fetch_spot_orders_history(\n",
    "        #     subaccount_id=subaccount_id,\n",
    "        #     #market_ids=market_ids,\n",
    "        #     # is_conditional=\"false\",\n",
    "        #     pagination=pagination,\n",
    "        # )\n",
    "        \n",
    "        \n",
    "        # Break the loop if no orders were returned\n",
    "        if not orders_response['orders']:\n",
    "            break\n",
    "\n",
    "        # Iterate through each order\n",
    "        for order in orders_response['orders']:\n",
    "            created_at = pd.to_datetime(order['createdAt'], unit='ms')\n",
    "            updated_at = pd.to_datetime(order['updatedAt'], unit='ms')\n",
    "            \n",
    "            \n",
    "            # Stop if we've gone past the start date\n",
    "\n",
    "            start_timestamp = pd.to_datetime(start_timestamp, unit='ms')\n",
    "\n",
    "            print (created_at)\n",
    "            print (start_timestamp)\n",
    "\n",
    "\n",
    "            if created_at < start_timestamp:\n",
    "                # Save orders to CSV and return\n",
    "                df_orders = pd.DataFrame(orders_list)\n",
    "                #df_orders.to_csv(csv_name, index=False)\n",
    "                return df_orders\n",
    "            \n",
    "            # Generate the time range between createdAt and updatedAt\n",
    "            \n",
    "            # For each second in the time range, add a new row to the data\n",
    "    \n",
    "            orders_list.append({\n",
    "                'orderHash': order['orderHash'],\n",
    "                'marketId': order['marketId'],\n",
    "                'subaccountId': order['subaccountId'],\n",
    "                'executionType': order['executionType'],\n",
    "                'orderType': order['orderType'],\n",
    "                'price': order['price'],\n",
    "                'quantity': order['quantity'],\n",
    "                'updated_at': updated_at,\n",
    "                'state': order['state'],\n",
    "                'created_at': created_at,\n",
    "            })\n",
    "\n",
    "        # Increment skip for pagination\n",
    "        skip += limit\n",
    "\n",
    "    # Save remaining orders to CSV\n",
    "    df_orders = pd.DataFrame(orders_list)\n",
    "\n",
    "    return df_orders\n",
    "\n",
    "async def main():\n",
    "    \n",
    "    # subaccount_id = \"0x935b705b5943b0e1b859651d2ccf375bc96dfdd700000000000000000000000f\" # tao\n",
    "    # subaccount_id = \"0x935b705b5943b0e1b859651d2ccf375bc96dfdd7000000000000000000000013\" # stx\n",
    "    # subaccount_id = '0x935b705b5943b0e1b859651d2ccf375bc96dfdd7000000000000000000000012' # ftm\n",
    "    # subaccount_id = '0x935b705b5943b0e1b859651d2ccf375bc96dfdd7000000000000000000000011' # pepe\n",
    "    # subaccount_id = '0x935b705b5943b0e1b859651d2ccf375bc96dfdd7000000000000000000000006' # crv\n",
    "    # subaccount_id = '0x935b705b5943b0e1b859651d2ccf375bc96dfdd7000000000000000000000010' # popcat\n",
    "    # subaccount_id = '0x935b705b5943b0e1b859651d2ccf375bc96dfdd7000000000000000000000005' # mkr\n",
    "\n",
    "    # subaccount_id = '0x935b705b5943b0e1b859651d2ccf375bc96dfdd7000000000000000000000019' # fet\n",
    "\n",
    "\n",
    "\n",
    "    subaccount_id = '0xadbce46487a056a56b8819600add44efbd599d57000000000000000000000002' # 26nf\n",
    "\n",
    "    \n",
    "    market_ids = [\n",
    "                    # \"0xa51b0df7a1ac2bea408fdc4f84f3d7060b62f976ab659b329b00065e5c8f2c37\" # tao\n",
    "                    # '0x9bb2341e12d7357cd6865b69e491bab5ac8b087df50906a53ffa8fc3ede59f5f' # stx\n",
    "                    # '0x2d7092545081b81ba33bf817b302f9609254f15f4354016631aec3bb39461f99' # \"pepe\n",
    "                    # '0x8157dd4bf502fc688aaa722c725124da3f411d7a92c569d55f34826f9ee040a9' # popcat\n",
    "                    # '0x4be4791338907626dd77a806c6e4dff76d1428768080fe232f32ef990c8d064f'  # ftm\n",
    "                    # '0xf58079e67f845907e93ab9767126a226a0759c23bee1bfc880fa8fba98f25872' # crv\n",
    "                    # \"0x142d0fa4506b5f404bcfdd54567797ff6767dce07afaedc90d379665f09f0520\" # mkr\n",
    " \n",
    "                    #'0xc9030edef611568ec9aa48228c92e30d398abf0eb289b5fee873b0f2f3a80295' # fet spot\n",
    "    ]\n",
    "    \n",
    "    now = datetime.now()\n",
    "\n",
    "    start_date = (now - timedelta(hours=6)).strftime('%Y-%m-%d %H:%M:%S')\n",
    "    end_date = now.strftime('%Y-%m-%d %H:%M:%S')\n",
    "\n",
    "    # Call the fetch_derivative_orders function\n",
    "    df_spot = await fetch_spot_orders(subaccount_id, market_ids, start_date, end_date,client)\n",
    "    df_futures = await fetch_derivative_orders(subaccount_id, market_ids, start_date, end_date,client)\n",
    "    return df_spot,df_futures\n",
    "df_spot,df_futures = await main()\n"
   ]
  },
  {
   "cell_type": "code",
   "execution_count": null,
   "metadata": {},
   "outputs": [],
   "source": [
    "import asyncio\n",
    "\n",
    "from pyinjective.async_client import AsyncClient\n",
    "from pyinjective.core.network import Network\n",
    "import pandas as pd \n",
    "\n",
    "async def merge_with_market_id_name(df) -> None:\n",
    "    # select network: local, testnet, mainnet\n",
    "    network = Network.local()\n",
    "    client = AsyncClient(network)\n",
    "    market_statuses = [\"active\"]\n",
    "    market_status = \"active\"\n",
    "    #quote_denom = \"peggy0x87aB3B4C8661e07D6372361211B96ed4Dc36B1B5\"\n",
    "    market_fut = await client.fetch_derivative_markets(market_statuses=market_statuses)\n",
    "    df_fut = pd.DataFrame(market_fut[\"markets\"])\n",
    "\n",
    "    marke_spot = await client.fetch_spot_markets(\n",
    "        market_statuses=[market_status]\n",
    "    )\n",
    "    df_spot = pd.DataFrame(marke_spot[\"markets\"])\n",
    "    \n",
    "\n",
    "    result = pd.concat([df_fut, df_spot], ignore_index=True)\n",
    "    #print(result)\n",
    "    result = result[[\"marketId\",\"ticker\"]]\n",
    "   #print(result)\n",
    "    df_merged = pd.merge(df, result, on='marketId', how='left')\n",
    "\n",
    "    #print(df_merged)\n",
    "    #print(result)\n",
    "    \n",
    "    return df_merged\n",
    "\n",
    "df_futures = await merge_with_market_id_name(df_futures)\n",
    "#df_spot = await merge_with_market_id_name(df_spot)\n"
   ]
  },
  {
   "cell_type": "code",
   "execution_count": null,
   "metadata": {},
   "outputs": [
    {
     "name": "stdout",
     "output_type": "stream",
     "text": [
      "Nombre de orderHash uniques : 54469\n"
     ]
    },
    {
     "data": {
      "application/vnd.plotly.v1+json": {
       "config": {
        "plotlyServerURL": "https://plot.ly"
       },
       "data": [
        {
         "domain": {
          "x": [
           0,
           1
          ],
          "y": [
           0,
           1
          ]
         },
         "hovertemplate": "label=%{label}<br>value=%{value}<extra></extra>",
         "labels": [
          "XAG/USDT PERP",
          "iMSTR/USDT PERP",
          "GBP/USDT PERP",
          "iHOOD/USDT PERP",
          "iCOIN/USDT PERP",
          "XAU/USDT PERP",
          "iTSLA/USDT PERP",
          "iNVDA/USDT PERP",
          "EUR/USDT PERP",
          "TRADFI/USDT PERP",
          "TTI/USDT PERP",
          "iMCD/USDT PERP"
         ],
         "legendgroup": "",
         "name": "",
         "showlegend": true,
         "textinfo": "label+percent",
         "type": "pie",
         "values": [
          16602,
          6024,
          4869,
          4822,
          4497,
          4119,
          4079,
          3949,
          2653,
          1920,
          747,
          288
         ]
        }
       ],
       "layout": {
        "legend": {
         "tracegroupgap": 0
        },
        "piecolorway": [
         "skyblue",
         "lightgreen",
         "salmon"
        ],
        "template": {
         "data": {
          "bar": [
           {
            "error_x": {
             "color": "#2a3f5f"
            },
            "error_y": {
             "color": "#2a3f5f"
            },
            "marker": {
             "line": {
              "color": "#E5ECF6",
              "width": 0.5
             },
             "pattern": {
              "fillmode": "overlay",
              "size": 10,
              "solidity": 0.2
             }
            },
            "type": "bar"
           }
          ],
          "barpolar": [
           {
            "marker": {
             "line": {
              "color": "#E5ECF6",
              "width": 0.5
             },
             "pattern": {
              "fillmode": "overlay",
              "size": 10,
              "solidity": 0.2
             }
            },
            "type": "barpolar"
           }
          ],
          "carpet": [
           {
            "aaxis": {
             "endlinecolor": "#2a3f5f",
             "gridcolor": "white",
             "linecolor": "white",
             "minorgridcolor": "white",
             "startlinecolor": "#2a3f5f"
            },
            "baxis": {
             "endlinecolor": "#2a3f5f",
             "gridcolor": "white",
             "linecolor": "white",
             "minorgridcolor": "white",
             "startlinecolor": "#2a3f5f"
            },
            "type": "carpet"
           }
          ],
          "choropleth": [
           {
            "colorbar": {
             "outlinewidth": 0,
             "ticks": ""
            },
            "type": "choropleth"
           }
          ],
          "contour": [
           {
            "colorbar": {
             "outlinewidth": 0,
             "ticks": ""
            },
            "colorscale": [
             [
              0,
              "#0d0887"
             ],
             [
              0.1111111111111111,
              "#46039f"
             ],
             [
              0.2222222222222222,
              "#7201a8"
             ],
             [
              0.3333333333333333,
              "#9c179e"
             ],
             [
              0.4444444444444444,
              "#bd3786"
             ],
             [
              0.5555555555555556,
              "#d8576b"
             ],
             [
              0.6666666666666666,
              "#ed7953"
             ],
             [
              0.7777777777777778,
              "#fb9f3a"
             ],
             [
              0.8888888888888888,
              "#fdca26"
             ],
             [
              1,
              "#f0f921"
             ]
            ],
            "type": "contour"
           }
          ],
          "contourcarpet": [
           {
            "colorbar": {
             "outlinewidth": 0,
             "ticks": ""
            },
            "type": "contourcarpet"
           }
          ],
          "heatmap": [
           {
            "colorbar": {
             "outlinewidth": 0,
             "ticks": ""
            },
            "colorscale": [
             [
              0,
              "#0d0887"
             ],
             [
              0.1111111111111111,
              "#46039f"
             ],
             [
              0.2222222222222222,
              "#7201a8"
             ],
             [
              0.3333333333333333,
              "#9c179e"
             ],
             [
              0.4444444444444444,
              "#bd3786"
             ],
             [
              0.5555555555555556,
              "#d8576b"
             ],
             [
              0.6666666666666666,
              "#ed7953"
             ],
             [
              0.7777777777777778,
              "#fb9f3a"
             ],
             [
              0.8888888888888888,
              "#fdca26"
             ],
             [
              1,
              "#f0f921"
             ]
            ],
            "type": "heatmap"
           }
          ],
          "heatmapgl": [
           {
            "colorbar": {
             "outlinewidth": 0,
             "ticks": ""
            },
            "colorscale": [
             [
              0,
              "#0d0887"
             ],
             [
              0.1111111111111111,
              "#46039f"
             ],
             [
              0.2222222222222222,
              "#7201a8"
             ],
             [
              0.3333333333333333,
              "#9c179e"
             ],
             [
              0.4444444444444444,
              "#bd3786"
             ],
             [
              0.5555555555555556,
              "#d8576b"
             ],
             [
              0.6666666666666666,
              "#ed7953"
             ],
             [
              0.7777777777777778,
              "#fb9f3a"
             ],
             [
              0.8888888888888888,
              "#fdca26"
             ],
             [
              1,
              "#f0f921"
             ]
            ],
            "type": "heatmapgl"
           }
          ],
          "histogram": [
           {
            "marker": {
             "pattern": {
              "fillmode": "overlay",
              "size": 10,
              "solidity": 0.2
             }
            },
            "type": "histogram"
           }
          ],
          "histogram2d": [
           {
            "colorbar": {
             "outlinewidth": 0,
             "ticks": ""
            },
            "colorscale": [
             [
              0,
              "#0d0887"
             ],
             [
              0.1111111111111111,
              "#46039f"
             ],
             [
              0.2222222222222222,
              "#7201a8"
             ],
             [
              0.3333333333333333,
              "#9c179e"
             ],
             [
              0.4444444444444444,
              "#bd3786"
             ],
             [
              0.5555555555555556,
              "#d8576b"
             ],
             [
              0.6666666666666666,
              "#ed7953"
             ],
             [
              0.7777777777777778,
              "#fb9f3a"
             ],
             [
              0.8888888888888888,
              "#fdca26"
             ],
             [
              1,
              "#f0f921"
             ]
            ],
            "type": "histogram2d"
           }
          ],
          "histogram2dcontour": [
           {
            "colorbar": {
             "outlinewidth": 0,
             "ticks": ""
            },
            "colorscale": [
             [
              0,
              "#0d0887"
             ],
             [
              0.1111111111111111,
              "#46039f"
             ],
             [
              0.2222222222222222,
              "#7201a8"
             ],
             [
              0.3333333333333333,
              "#9c179e"
             ],
             [
              0.4444444444444444,
              "#bd3786"
             ],
             [
              0.5555555555555556,
              "#d8576b"
             ],
             [
              0.6666666666666666,
              "#ed7953"
             ],
             [
              0.7777777777777778,
              "#fb9f3a"
             ],
             [
              0.8888888888888888,
              "#fdca26"
             ],
             [
              1,
              "#f0f921"
             ]
            ],
            "type": "histogram2dcontour"
           }
          ],
          "mesh3d": [
           {
            "colorbar": {
             "outlinewidth": 0,
             "ticks": ""
            },
            "type": "mesh3d"
           }
          ],
          "parcoords": [
           {
            "line": {
             "colorbar": {
              "outlinewidth": 0,
              "ticks": ""
             }
            },
            "type": "parcoords"
           }
          ],
          "pie": [
           {
            "automargin": true,
            "type": "pie"
           }
          ],
          "scatter": [
           {
            "fillpattern": {
             "fillmode": "overlay",
             "size": 10,
             "solidity": 0.2
            },
            "type": "scatter"
           }
          ],
          "scatter3d": [
           {
            "line": {
             "colorbar": {
              "outlinewidth": 0,
              "ticks": ""
             }
            },
            "marker": {
             "colorbar": {
              "outlinewidth": 0,
              "ticks": ""
             }
            },
            "type": "scatter3d"
           }
          ],
          "scattercarpet": [
           {
            "marker": {
             "colorbar": {
              "outlinewidth": 0,
              "ticks": ""
             }
            },
            "type": "scattercarpet"
           }
          ],
          "scattergeo": [
           {
            "marker": {
             "colorbar": {
              "outlinewidth": 0,
              "ticks": ""
             }
            },
            "type": "scattergeo"
           }
          ],
          "scattergl": [
           {
            "marker": {
             "colorbar": {
              "outlinewidth": 0,
              "ticks": ""
             }
            },
            "type": "scattergl"
           }
          ],
          "scattermapbox": [
           {
            "marker": {
             "colorbar": {
              "outlinewidth": 0,
              "ticks": ""
             }
            },
            "type": "scattermapbox"
           }
          ],
          "scatterpolar": [
           {
            "marker": {
             "colorbar": {
              "outlinewidth": 0,
              "ticks": ""
             }
            },
            "type": "scatterpolar"
           }
          ],
          "scatterpolargl": [
           {
            "marker": {
             "colorbar": {
              "outlinewidth": 0,
              "ticks": ""
             }
            },
            "type": "scatterpolargl"
           }
          ],
          "scatterternary": [
           {
            "marker": {
             "colorbar": {
              "outlinewidth": 0,
              "ticks": ""
             }
            },
            "type": "scatterternary"
           }
          ],
          "surface": [
           {
            "colorbar": {
             "outlinewidth": 0,
             "ticks": ""
            },
            "colorscale": [
             [
              0,
              "#0d0887"
             ],
             [
              0.1111111111111111,
              "#46039f"
             ],
             [
              0.2222222222222222,
              "#7201a8"
             ],
             [
              0.3333333333333333,
              "#9c179e"
             ],
             [
              0.4444444444444444,
              "#bd3786"
             ],
             [
              0.5555555555555556,
              "#d8576b"
             ],
             [
              0.6666666666666666,
              "#ed7953"
             ],
             [
              0.7777777777777778,
              "#fb9f3a"
             ],
             [
              0.8888888888888888,
              "#fdca26"
             ],
             [
              1,
              "#f0f921"
             ]
            ],
            "type": "surface"
           }
          ],
          "table": [
           {
            "cells": {
             "fill": {
              "color": "#EBF0F8"
             },
             "line": {
              "color": "white"
             }
            },
            "header": {
             "fill": {
              "color": "#C8D4E3"
             },
             "line": {
              "color": "white"
             }
            },
            "type": "table"
           }
          ]
         },
         "layout": {
          "annotationdefaults": {
           "arrowcolor": "#2a3f5f",
           "arrowhead": 0,
           "arrowwidth": 1
          },
          "autotypenumbers": "strict",
          "coloraxis": {
           "colorbar": {
            "outlinewidth": 0,
            "ticks": ""
           }
          },
          "colorscale": {
           "diverging": [
            [
             0,
             "#8e0152"
            ],
            [
             0.1,
             "#c51b7d"
            ],
            [
             0.2,
             "#de77ae"
            ],
            [
             0.3,
             "#f1b6da"
            ],
            [
             0.4,
             "#fde0ef"
            ],
            [
             0.5,
             "#f7f7f7"
            ],
            [
             0.6,
             "#e6f5d0"
            ],
            [
             0.7,
             "#b8e186"
            ],
            [
             0.8,
             "#7fbc41"
            ],
            [
             0.9,
             "#4d9221"
            ],
            [
             1,
             "#276419"
            ]
           ],
           "sequential": [
            [
             0,
             "#0d0887"
            ],
            [
             0.1111111111111111,
             "#46039f"
            ],
            [
             0.2222222222222222,
             "#7201a8"
            ],
            [
             0.3333333333333333,
             "#9c179e"
            ],
            [
             0.4444444444444444,
             "#bd3786"
            ],
            [
             0.5555555555555556,
             "#d8576b"
            ],
            [
             0.6666666666666666,
             "#ed7953"
            ],
            [
             0.7777777777777778,
             "#fb9f3a"
            ],
            [
             0.8888888888888888,
             "#fdca26"
            ],
            [
             1,
             "#f0f921"
            ]
           ],
           "sequentialminus": [
            [
             0,
             "#0d0887"
            ],
            [
             0.1111111111111111,
             "#46039f"
            ],
            [
             0.2222222222222222,
             "#7201a8"
            ],
            [
             0.3333333333333333,
             "#9c179e"
            ],
            [
             0.4444444444444444,
             "#bd3786"
            ],
            [
             0.5555555555555556,
             "#d8576b"
            ],
            [
             0.6666666666666666,
             "#ed7953"
            ],
            [
             0.7777777777777778,
             "#fb9f3a"
            ],
            [
             0.8888888888888888,
             "#fdca26"
            ],
            [
             1,
             "#f0f921"
            ]
           ]
          },
          "colorway": [
           "#636efa",
           "#EF553B",
           "#00cc96",
           "#ab63fa",
           "#FFA15A",
           "#19d3f3",
           "#FF6692",
           "#B6E880",
           "#FF97FF",
           "#FECB52"
          ],
          "font": {
           "color": "#2a3f5f"
          },
          "geo": {
           "bgcolor": "white",
           "lakecolor": "white",
           "landcolor": "#E5ECF6",
           "showlakes": true,
           "showland": true,
           "subunitcolor": "white"
          },
          "hoverlabel": {
           "align": "left"
          },
          "hovermode": "closest",
          "mapbox": {
           "style": "light"
          },
          "paper_bgcolor": "white",
          "plot_bgcolor": "#E5ECF6",
          "polar": {
           "angularaxis": {
            "gridcolor": "white",
            "linecolor": "white",
            "ticks": ""
           },
           "bgcolor": "#E5ECF6",
           "radialaxis": {
            "gridcolor": "white",
            "linecolor": "white",
            "ticks": ""
           }
          },
          "scene": {
           "xaxis": {
            "backgroundcolor": "#E5ECF6",
            "gridcolor": "white",
            "gridwidth": 2,
            "linecolor": "white",
            "showbackground": true,
            "ticks": "",
            "zerolinecolor": "white"
           },
           "yaxis": {
            "backgroundcolor": "#E5ECF6",
            "gridcolor": "white",
            "gridwidth": 2,
            "linecolor": "white",
            "showbackground": true,
            "ticks": "",
            "zerolinecolor": "white"
           },
           "zaxis": {
            "backgroundcolor": "#E5ECF6",
            "gridcolor": "white",
            "gridwidth": 2,
            "linecolor": "white",
            "showbackground": true,
            "ticks": "",
            "zerolinecolor": "white"
           }
          },
          "shapedefaults": {
           "line": {
            "color": "#2a3f5f"
           }
          },
          "ternary": {
           "aaxis": {
            "gridcolor": "white",
            "linecolor": "white",
            "ticks": ""
           },
           "baxis": {
            "gridcolor": "white",
            "linecolor": "white",
            "ticks": ""
           },
           "bgcolor": "#E5ECF6",
           "caxis": {
            "gridcolor": "white",
            "linecolor": "white",
            "ticks": ""
           }
          },
          "title": {
           "x": 0.05
          },
          "xaxis": {
           "automargin": true,
           "gridcolor": "white",
           "linecolor": "white",
           "ticks": "",
           "title": {
            "standoff": 15
           },
           "zerolinecolor": "white",
           "zerolinewidth": 2
          },
          "yaxis": {
           "automargin": true,
           "gridcolor": "white",
           "linecolor": "white",
           "ticks": "",
           "title": {
            "standoff": 15
           },
           "zerolinecolor": "white",
           "zerolinewidth": 2
          }
         }
        },
        "title": {
         "text": "Distribution of Each Group"
        }
       }
      }
     },
     "metadata": {},
     "output_type": "display_data"
    },
    {
     "name": "stdout",
     "output_type": "stream",
     "text": [
      "Gas estimé : 1.38569136\n"
     ]
    }
   ],
   "source": [
    "import plotly.express as px\n",
    "import plotly.graph_objects as go\n",
    "\n",
    "def analyze_and_visualize(df):\n",
    "\n",
    "    # Count unique order hashes\n",
    "    unique_order_hashes = df['orderHash'].unique()\n",
    "    count_unique_order_hashes = len(unique_order_hashes)\n",
    "\n",
    "    print(\"Nombre de orderHash uniques :\", count_unique_order_hashes)\n",
    "\n",
    "    # Group data by 'ticker' and count occurrences\n",
    "    grouped_data = df['ticker'].value_counts()\n",
    "\n",
    "    # Plot pie chart using Plotly\n",
    "    fig = px.pie(\n",
    "        names=grouped_data.index,\n",
    "        values=grouped_data.values,\n",
    "        title='Distribution of Each Group',\n",
    "        color_discrete_sequence=['skyblue', 'lightgreen', 'salmon']\n",
    "    )\n",
    "    # Update the trace to show percentages\n",
    "    fig.update_traces(textinfo='label+percent', showlegend=True)\n",
    "    fig.show()\n",
    "\n",
    "    # Calculate gas estimation\n",
    "    gas = count_unique_order_hashes / 2 * 0.00005088\n",
    "    print(\"Gas estimé :\", gas)\n",
    "\n",
    "    return gas\n",
    "\n",
    "# Assuming `df_futures` and `df_spot` are your DataFrames\n",
    "gas_fut = analyze_and_visualize(df_futures)\n",
    "#gas_spot = analyze_and_visualize(df_spot)\n"
   ]
  },
  {
   "cell_type": "code",
   "execution_count": null,
   "metadata": {},
   "outputs": [],
   "source": []
  }
 ],
 "metadata": {
  "kernelspec": {
   "display_name": "Python 3",
   "language": "python",
   "name": "python3"
  },
  "language_info": {
   "codemirror_mode": {
    "name": "ipython",
    "version": 3
   },
   "file_extension": ".py",
   "mimetype": "text/x-python",
   "name": "python",
   "nbconvert_exporter": "python",
   "pygments_lexer": "ipython3",
   "version": "3.9.6"
  }
 },
 "nbformat": 4,
 "nbformat_minor": 2
}
