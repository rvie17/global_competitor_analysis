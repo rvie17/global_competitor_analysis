{
 "cells": [
  {
   "cell_type": "code",
   "execution_count": null,
   "metadata": {},
   "outputs": [],
   "source": [
    "import asyncio\n",
    "\n",
    "from pyinjective.async_client import AsyncClient\n",
    "from pyinjective.core.network import Network\n",
    "\n",
    "\n",
    "async def main() -> None:\n",
    "    network = Network.local()\n",
    "    client = AsyncClient(network)\n",
    "    account_address = \"inj1jddhqk6egwcwrwzev5wjeneht0ykmlwhcehc4z\"\n",
    "    subacc_list = await client.fetch_subaccounts_list(account_address)\n",
    "    return subacc_list\n",
    "\n",
    "\n",
    "subacc_list = await main()\n",
    "subacc_list"
   ]
  }
 ],
 "metadata": {
  "kernelspec": {
   "display_name": "Python 3",
   "language": "python",
   "name": "python3"
  },
  "language_info": {
   "codemirror_mode": {
    "name": "ipython",
    "version": 3
   },
   "file_extension": ".py",
   "mimetype": "text/x-python",
   "name": "python",
   "nbconvert_exporter": "python",
   "pygments_lexer": "ipython3",
   "version": "3.9.6"
  }
 },
 "nbformat": 4,
 "nbformat_minor": 2
}
